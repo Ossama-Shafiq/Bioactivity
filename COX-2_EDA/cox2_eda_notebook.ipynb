{
 "cells": [
  {
   "cell_type": "markdown",
   "id": "6388652f",
   "metadata": {},
   "source": [
    "# Load in the preprocessed bioactivity data "
   ]
  },
  {
   "cell_type": "code",
   "execution_count": 1,
   "id": "d5b626d7",
   "metadata": {},
   "outputs": [],
   "source": [
    "import pandas as pd"
   ]
  },
  {
   "cell_type": "code",
   "execution_count": 2,
   "id": "3a0a1841",
   "metadata": {},
   "outputs": [],
   "source": [
    "df = pd.read_csv('cox2_data_curated_03.csv')"
   ]
  },
  {
   "cell_type": "markdown",
   "id": "6fbeafc9",
   "metadata": {},
   "source": [
    "# Calculate Lipinski descriptors\n",
    "\n",
    "## Rule of five developed by Christopher Lipinski to determine Druglikeness \n",
    "## Based on ADMET pharmacokinetic properites/profiles\n",
    "\n",
    "Lipinskis rules are the following:\n",
    "- MW < 500\n",
    "- LogP < 5 \n",
    "- HBD < 5 \n",
    "- HBA < 10"
   ]
  },
  {
   "cell_type": "code",
   "execution_count": 3,
   "id": "266536f0",
   "metadata": {},
   "outputs": [],
   "source": [
    "# Import necessary libraries \n",
    "import numpy as np \n",
    "from rdkit import Chem\n",
    "from rdkit.Chem import Descriptors, Lipinski"
   ]
  },
  {
   "cell_type": "markdown",
   "id": "e12d69d4",
   "metadata": {},
   "source": [
    "# Clean the smiles"
   ]
  },
  {
   "cell_type": "code",
   "execution_count": 4,
   "id": "e6e128cf",
   "metadata": {},
   "outputs": [],
   "source": [
    "df_no_smiles = df.drop(columns='canonical_smiles')"
   ]
  },
  {
   "cell_type": "code",
   "execution_count": 5,
   "id": "793d0ff0",
   "metadata": {},
   "outputs": [
    {
     "data": {
      "text/plain": [
       "count    4.384000e+03\n",
       "mean     5.648636e+04\n",
       "std      1.038730e+06\n",
       "min      0.000000e+00\n",
       "25%      1.600000e+02\n",
       "50%      1.900000e+03\n",
       "75%      1.379275e+04\n",
       "max      6.000000e+07\n",
       "Name: standard_value, dtype: float64"
      ]
     },
     "execution_count": 5,
     "metadata": {},
     "output_type": "execute_result"
    }
   ],
   "source": [
    "df_no_smiles.standard_value.describe()"
   ]
  },
  {
   "cell_type": "code",
   "execution_count": 6,
   "id": "354dec29",
   "metadata": {},
   "outputs": [],
   "source": [
    "smiles = []\n",
    "\n",
    "for i in df.canonical_smiles.tolist():\n",
    "  cpd = str(i).split('.')\n",
    "  cpd_longest = max(cpd, key = len)\n",
    "  smiles.append(cpd_longest)\n",
    "\n",
    "smiles = pd.Series(smiles, name = 'canonical_smiles')"
   ]
  },
  {
   "cell_type": "code",
   "execution_count": 7,
   "id": "498732cf",
   "metadata": {},
   "outputs": [],
   "source": [
    "df_clean_smiles = pd.concat([df_no_smiles,smiles], axis=1)"
   ]
  },
  {
   "cell_type": "code",
   "execution_count": 8,
   "id": "fd9858b3",
   "metadata": {},
   "outputs": [
    {
     "data": {
      "text/html": [
       "<div>\n",
       "<style scoped>\n",
       "    .dataframe tbody tr th:only-of-type {\n",
       "        vertical-align: middle;\n",
       "    }\n",
       "\n",
       "    .dataframe tbody tr th {\n",
       "        vertical-align: top;\n",
       "    }\n",
       "\n",
       "    .dataframe thead th {\n",
       "        text-align: right;\n",
       "    }\n",
       "</style>\n",
       "<table border=\"1\" class=\"dataframe\">\n",
       "  <thead>\n",
       "    <tr style=\"text-align: right;\">\n",
       "      <th></th>\n",
       "      <th>molecule_chembl_id</th>\n",
       "      <th>standard_value</th>\n",
       "      <th>class</th>\n",
       "      <th>canonical_smiles</th>\n",
       "    </tr>\n",
       "  </thead>\n",
       "  <tbody>\n",
       "    <tr>\n",
       "      <th>0</th>\n",
       "      <td>CHEMBL297008</td>\n",
       "      <td>60.00</td>\n",
       "      <td>active</td>\n",
       "      <td>Cc1ccc(-c2ccc(S(C)(=O)=O)cc2)n1-c1ccccc1</td>\n",
       "    </tr>\n",
       "    <tr>\n",
       "      <th>1</th>\n",
       "      <td>CHEMBL289813</td>\n",
       "      <td>3230.00</td>\n",
       "      <td>intermediate</td>\n",
       "      <td>Cc1c(C=O)cc(-c2ccc(S(C)(=O)=O)cc2)n1-c1ccc(F)cc1</td>\n",
       "    </tr>\n",
       "    <tr>\n",
       "      <th>2</th>\n",
       "      <td>CHEMBL43736</td>\n",
       "      <td>80.00</td>\n",
       "      <td>active</td>\n",
       "      <td>Cc1c(COc2cccc(Cl)c2)cc(-c2ccc(S(C)(=O)=O)cc2)n...</td>\n",
       "    </tr>\n",
       "    <tr>\n",
       "      <th>3</th>\n",
       "      <td>CHEMBL140167</td>\n",
       "      <td>0.12</td>\n",
       "      <td>active</td>\n",
       "      <td>Fc1ccc(-c2[nH]c(-c3ccc(F)cc3)c3c2C2CCC3CC2)cc1</td>\n",
       "    </tr>\n",
       "    <tr>\n",
       "      <th>4</th>\n",
       "      <td>CHEMBL44194</td>\n",
       "      <td>100000.00</td>\n",
       "      <td>inactive</td>\n",
       "      <td>CCc1ccc(-c2ccc(S(C)(=O)=O)cc2)n1-c1ccc(F)cc1</td>\n",
       "    </tr>\n",
       "    <tr>\n",
       "      <th>...</th>\n",
       "      <td>...</td>\n",
       "      <td>...</td>\n",
       "      <td>...</td>\n",
       "      <td>...</td>\n",
       "    </tr>\n",
       "    <tr>\n",
       "      <th>4379</th>\n",
       "      <td>CHEMBL4637729</td>\n",
       "      <td>102000.00</td>\n",
       "      <td>inactive</td>\n",
       "      <td>O=[N+]([O-])c1ccc(-n2c(-c3ccc(Br)cc3)nc3ccccc3...</td>\n",
       "    </tr>\n",
       "    <tr>\n",
       "      <th>4380</th>\n",
       "      <td>CHEMBL4644152</td>\n",
       "      <td>162000.00</td>\n",
       "      <td>inactive</td>\n",
       "      <td>O=[N+]([O-])c1ccc(-n2c(-c3ccccc3)nc3ccccc32)cc1</td>\n",
       "    </tr>\n",
       "    <tr>\n",
       "      <th>4381</th>\n",
       "      <td>CHEMBL4644109</td>\n",
       "      <td>193000.00</td>\n",
       "      <td>inactive</td>\n",
       "      <td>Nc1ccc(-n2c(-c3ccc(Cl)cc3)nc3ccccc32)cc1</td>\n",
       "    </tr>\n",
       "    <tr>\n",
       "      <th>4382</th>\n",
       "      <td>CHEMBL4640459</td>\n",
       "      <td>173000.00</td>\n",
       "      <td>inactive</td>\n",
       "      <td>Nc1ccc(-c2nc3ccccc3n2-c2ccc(N)cc2)cc1</td>\n",
       "    </tr>\n",
       "    <tr>\n",
       "      <th>4383</th>\n",
       "      <td>CHEMBL1800685</td>\n",
       "      <td>8.71</td>\n",
       "      <td>active</td>\n",
       "      <td>O=C(O)c1cc(-c2ccc(C3CCNCC3)cc2)c2ccc(-c3ccc(C(...</td>\n",
       "    </tr>\n",
       "  </tbody>\n",
       "</table>\n",
       "<p>4384 rows × 4 columns</p>\n",
       "</div>"
      ],
      "text/plain": [
       "     molecule_chembl_id  standard_value         class  \\\n",
       "0          CHEMBL297008           60.00        active   \n",
       "1          CHEMBL289813         3230.00  intermediate   \n",
       "2           CHEMBL43736           80.00        active   \n",
       "3          CHEMBL140167            0.12        active   \n",
       "4           CHEMBL44194       100000.00      inactive   \n",
       "...                 ...             ...           ...   \n",
       "4379      CHEMBL4637729       102000.00      inactive   \n",
       "4380      CHEMBL4644152       162000.00      inactive   \n",
       "4381      CHEMBL4644109       193000.00      inactive   \n",
       "4382      CHEMBL4640459       173000.00      inactive   \n",
       "4383      CHEMBL1800685            8.71        active   \n",
       "\n",
       "                                       canonical_smiles  \n",
       "0              Cc1ccc(-c2ccc(S(C)(=O)=O)cc2)n1-c1ccccc1  \n",
       "1      Cc1c(C=O)cc(-c2ccc(S(C)(=O)=O)cc2)n1-c1ccc(F)cc1  \n",
       "2     Cc1c(COc2cccc(Cl)c2)cc(-c2ccc(S(C)(=O)=O)cc2)n...  \n",
       "3        Fc1ccc(-c2[nH]c(-c3ccc(F)cc3)c3c2C2CCC3CC2)cc1  \n",
       "4          CCc1ccc(-c2ccc(S(C)(=O)=O)cc2)n1-c1ccc(F)cc1  \n",
       "...                                                 ...  \n",
       "4379  O=[N+]([O-])c1ccc(-n2c(-c3ccc(Br)cc3)nc3ccccc3...  \n",
       "4380    O=[N+]([O-])c1ccc(-n2c(-c3ccccc3)nc3ccccc32)cc1  \n",
       "4381           Nc1ccc(-n2c(-c3ccc(Cl)cc3)nc3ccccc32)cc1  \n",
       "4382              Nc1ccc(-c2nc3ccccc3n2-c2ccc(N)cc2)cc1  \n",
       "4383  O=C(O)c1cc(-c2ccc(C3CCNCC3)cc2)c2ccc(-c3ccc(C(...  \n",
       "\n",
       "[4384 rows x 4 columns]"
      ]
     },
     "execution_count": 8,
     "metadata": {},
     "output_type": "execute_result"
    }
   ],
   "source": [
    "df_clean_smiles"
   ]
  },
  {
   "cell_type": "code",
   "execution_count": 9,
   "id": "ed741af4",
   "metadata": {},
   "outputs": [],
   "source": [
    "#Compute descriptors using smiles\n",
    "# Inspired by: https://codeocean.com/explore/capsules?query=tag:data-curation\n",
    "\n",
    "def lipinski(smiles, verbose=False):\n",
    "\n",
    "    moldata= []\n",
    "    for elem in smiles:\n",
    "        mol=Chem.MolFromSmiles(elem) \n",
    "        moldata.append(mol)\n",
    "       \n",
    "    baseData= np.arange(1,1)\n",
    "    i=0  \n",
    "    for mol in moldata:        \n",
    "       \n",
    "        desc_MolWt = Descriptors.MolWt(mol)\n",
    "        desc_MolLogP = Descriptors.MolLogP(mol)\n",
    "        desc_NumHDonors = Lipinski.NumHDonors(mol)\n",
    "        desc_NumHAcceptors = Lipinski.NumHAcceptors(mol)\n",
    "           \n",
    "        row = np.array([desc_MolWt,\n",
    "                        desc_MolLogP,\n",
    "                        desc_NumHDonors,\n",
    "                        desc_NumHAcceptors])   \n",
    "    \n",
    "        if(i==0):\n",
    "            baseData=row\n",
    "        else:\n",
    "            baseData=np.vstack([baseData, row])\n",
    "        i=i+1      \n",
    "    \n",
    "    columnNames=[\"MW\",\"LogP\",\"NumHDonors\",\"NumHAcceptors\"]   \n",
    "    descriptors = pd.DataFrame(data=baseData,columns=columnNames)\n",
    "    \n",
    "    return descriptors"
   ]
  },
  {
   "cell_type": "code",
   "execution_count": 10,
   "id": "3edca0ad",
   "metadata": {},
   "outputs": [],
   "source": [
    "df_lipinski = lipinski(df.canonical_smiles)"
   ]
  },
  {
   "cell_type": "code",
   "execution_count": 11,
   "id": "93c79490",
   "metadata": {},
   "outputs": [
    {
     "data": {
      "text/html": [
       "<div>\n",
       "<style scoped>\n",
       "    .dataframe tbody tr th:only-of-type {\n",
       "        vertical-align: middle;\n",
       "    }\n",
       "\n",
       "    .dataframe tbody tr th {\n",
       "        vertical-align: top;\n",
       "    }\n",
       "\n",
       "    .dataframe thead th {\n",
       "        text-align: right;\n",
       "    }\n",
       "</style>\n",
       "<table border=\"1\" class=\"dataframe\">\n",
       "  <thead>\n",
       "    <tr style=\"text-align: right;\">\n",
       "      <th></th>\n",
       "      <th>MW</th>\n",
       "      <th>LogP</th>\n",
       "      <th>NumHDonors</th>\n",
       "      <th>NumHAcceptors</th>\n",
       "    </tr>\n",
       "  </thead>\n",
       "  <tbody>\n",
       "    <tr>\n",
       "      <th>0</th>\n",
       "      <td>311.406</td>\n",
       "      <td>3.85622</td>\n",
       "      <td>0.0</td>\n",
       "      <td>3.0</td>\n",
       "    </tr>\n",
       "    <tr>\n",
       "      <th>1</th>\n",
       "      <td>357.406</td>\n",
       "      <td>3.80782</td>\n",
       "      <td>0.0</td>\n",
       "      <td>4.0</td>\n",
       "    </tr>\n",
       "    <tr>\n",
       "      <th>2</th>\n",
       "      <td>469.965</td>\n",
       "      <td>6.22772</td>\n",
       "      <td>0.0</td>\n",
       "      <td>4.0</td>\n",
       "    </tr>\n",
       "    <tr>\n",
       "      <th>3</th>\n",
       "      <td>335.397</td>\n",
       "      <td>6.38170</td>\n",
       "      <td>1.0</td>\n",
       "      <td>0.0</td>\n",
       "    </tr>\n",
       "    <tr>\n",
       "      <th>4</th>\n",
       "      <td>343.423</td>\n",
       "      <td>4.24930</td>\n",
       "      <td>0.0</td>\n",
       "      <td>3.0</td>\n",
       "    </tr>\n",
       "    <tr>\n",
       "      <th>...</th>\n",
       "      <td>...</td>\n",
       "      <td>...</td>\n",
       "      <td>...</td>\n",
       "      <td>...</td>\n",
       "    </tr>\n",
       "    <tr>\n",
       "      <th>4379</th>\n",
       "      <td>394.228</td>\n",
       "      <td>5.36320</td>\n",
       "      <td>0.0</td>\n",
       "      <td>4.0</td>\n",
       "    </tr>\n",
       "    <tr>\n",
       "      <th>4380</th>\n",
       "      <td>315.332</td>\n",
       "      <td>4.60070</td>\n",
       "      <td>0.0</td>\n",
       "      <td>4.0</td>\n",
       "    </tr>\n",
       "    <tr>\n",
       "      <th>4381</th>\n",
       "      <td>319.795</td>\n",
       "      <td>4.92810</td>\n",
       "      <td>1.0</td>\n",
       "      <td>3.0</td>\n",
       "    </tr>\n",
       "    <tr>\n",
       "      <th>4382</th>\n",
       "      <td>300.365</td>\n",
       "      <td>3.85690</td>\n",
       "      <td>2.0</td>\n",
       "      <td>4.0</td>\n",
       "    </tr>\n",
       "    <tr>\n",
       "      <th>4383</th>\n",
       "      <td>475.510</td>\n",
       "      <td>7.35780</td>\n",
       "      <td>2.0</td>\n",
       "      <td>2.0</td>\n",
       "    </tr>\n",
       "  </tbody>\n",
       "</table>\n",
       "<p>4384 rows × 4 columns</p>\n",
       "</div>"
      ],
      "text/plain": [
       "           MW     LogP  NumHDonors  NumHAcceptors\n",
       "0     311.406  3.85622         0.0            3.0\n",
       "1     357.406  3.80782         0.0            4.0\n",
       "2     469.965  6.22772         0.0            4.0\n",
       "3     335.397  6.38170         1.0            0.0\n",
       "4     343.423  4.24930         0.0            3.0\n",
       "...       ...      ...         ...            ...\n",
       "4379  394.228  5.36320         0.0            4.0\n",
       "4380  315.332  4.60070         0.0            4.0\n",
       "4381  319.795  4.92810         1.0            3.0\n",
       "4382  300.365  3.85690         2.0            4.0\n",
       "4383  475.510  7.35780         2.0            2.0\n",
       "\n",
       "[4384 rows x 4 columns]"
      ]
     },
     "execution_count": 11,
     "metadata": {},
     "output_type": "execute_result"
    }
   ],
   "source": [
    "df_lipinski"
   ]
  },
  {
   "cell_type": "markdown",
   "id": "7c1eedae",
   "metadata": {},
   "source": [
    "# Combine the two dataframes"
   ]
  },
  {
   "cell_type": "code",
   "execution_count": 12,
   "id": "425b4cf0",
   "metadata": {},
   "outputs": [],
   "source": [
    "df_combined = pd.concat([df, df_lipinski], axis=1)"
   ]
  },
  {
   "cell_type": "code",
   "execution_count": 13,
   "id": "103d9085",
   "metadata": {
    "scrolled": true
   },
   "outputs": [],
   "source": [
    "df_combined = df_combined[df_combined.standard_value != 0]"
   ]
  },
  {
   "cell_type": "code",
   "execution_count": 14,
   "id": "73578b5b",
   "metadata": {},
   "outputs": [],
   "source": [
    "import numpy as np\n",
    "import matplotlib.pyplot as plt\n",
    "%matplotlib inline"
   ]
  },
  {
   "cell_type": "code",
   "execution_count": 15,
   "id": "e78edbb7",
   "metadata": {},
   "outputs": [
    {
     "data": {
      "text/plain": [
       "<AxesSubplot:xlabel='molecule_chembl_id', ylabel='standard_value'>"
      ]
     },
     "execution_count": 15,
     "metadata": {},
     "output_type": "execute_result"
    },
    {
     "data": {
      "image/png": "[encoded data removed]",
      "text/plain": [
       "<Figure size 432x288 with 1 Axes>"
      ]
     },
     "metadata": {
      "needs_background": "light"
     },
     "output_type": "display_data"
    }
   ],
   "source": [
    "# Distribution of ic50 before negative logarithmic transformation\n",
    "df_combined.plot.scatter(x='molecule_chembl_id', y='standard_value')"
   ]
  },
  {
   "cell_type": "code",
   "execution_count": 16,
   "id": "90449c2d",
   "metadata": {},
   "outputs": [
    {
     "data": {
      "text/plain": [
       "count    4.377000e+03\n",
       "mean     5.657670e+04\n",
       "std      1.039558e+06\n",
       "min      6.000000e-03\n",
       "25%      1.698200e+02\n",
       "50%      1.910000e+03\n",
       "75%      1.390000e+04\n",
       "max      6.000000e+07\n",
       "Name: standard_value, dtype: float64"
      ]
     },
     "execution_count": 16,
     "metadata": {},
     "output_type": "execute_result"
    }
   ],
   "source": [
    "df_combined.standard_value.describe()"
   ]
  },
  {
   "cell_type": "markdown",
   "id": "ccc1aac2",
   "metadata": {},
   "source": [
    "# Convert IC50 to pIC50 \n",
    "applying a negative logarithmic tranformation to the IC50 values to make the distribution more even"
   ]
  },
  {
   "cell_type": "code",
   "execution_count": 17,
   "id": "4af106f3",
   "metadata": {},
   "outputs": [],
   "source": [
    "# https://github.com/chaninlab/estrogen-receptor-alpha-qsar/blob/master/02_ER_alpha_RO5.ipynb\n",
    "\n",
    "import numpy as np\n",
    "\n",
    "def pIC50(input):\n",
    "    pIC50 = []\n",
    "\n",
    "    for i in input['standard_value_norm']:\n",
    "        molar = i*(10**-9) # Converts nM to M\n",
    "        pIC50.append(-np.log10(molar))\n",
    "\n",
    "    input['pIC50'] = pIC50\n",
    "    x = input.drop('standard_value_norm', 1)\n",
    "        \n",
    "    return x"
   ]
  },
  {
   "cell_type": "code",
   "execution_count": 18,
   "id": "aa881603",
   "metadata": {},
   "outputs": [],
   "source": [
    "# Cap the standard values so the resulting pic50 is not negative as it can turn into a negative for large numbers\n",
    "def norm_value(input):\n",
    "    norm = []\n",
    "\n",
    "    for i in input['standard_value']:\n",
    "        if i > 100000000:\n",
    "            i = 100000000\n",
    "        norm.append(i)\n",
    "\n",
    "    input['standard_value_norm'] = norm\n",
    "    x = input.drop(columns = 'standard_value', axis = 1)\n",
    "        \n",
    "    return x"
   ]
  },
  {
   "cell_type": "code",
   "execution_count": 19,
   "id": "f9c7432f",
   "metadata": {},
   "outputs": [
    {
     "data": {
      "text/html": [
       "<div>\n",
       "<style scoped>\n",
       "    .dataframe tbody tr th:only-of-type {\n",
       "        vertical-align: middle;\n",
       "    }\n",
       "\n",
       "    .dataframe tbody tr th {\n",
       "        vertical-align: top;\n",
       "    }\n",
       "\n",
       "    .dataframe thead th {\n",
       "        text-align: right;\n",
       "    }\n",
       "</style>\n",
       "<table border=\"1\" class=\"dataframe\">\n",
       "  <thead>\n",
       "    <tr style=\"text-align: right;\">\n",
       "      <th></th>\n",
       "      <th>molecule_chembl_id</th>\n",
       "      <th>canonical_smiles</th>\n",
       "      <th>class</th>\n",
       "      <th>MW</th>\n",
       "      <th>LogP</th>\n",
       "      <th>NumHDonors</th>\n",
       "      <th>NumHAcceptors</th>\n",
       "      <th>standard_value_norm</th>\n",
       "    </tr>\n",
       "  </thead>\n",
       "  <tbody>\n",
       "    <tr>\n",
       "      <th>0</th>\n",
       "      <td>CHEMBL297008</td>\n",
       "      <td>Cc1ccc(-c2ccc(S(C)(=O)=O)cc2)n1-c1ccccc1</td>\n",
       "      <td>active</td>\n",
       "      <td>311.406</td>\n",
       "      <td>3.85622</td>\n",
       "      <td>0.0</td>\n",
       "      <td>3.0</td>\n",
       "      <td>60.00</td>\n",
       "    </tr>\n",
       "    <tr>\n",
       "      <th>1</th>\n",
       "      <td>CHEMBL289813</td>\n",
       "      <td>Cc1c(C=O)cc(-c2ccc(S(C)(=O)=O)cc2)n1-c1ccc(F)cc1</td>\n",
       "      <td>intermediate</td>\n",
       "      <td>357.406</td>\n",
       "      <td>3.80782</td>\n",
       "      <td>0.0</td>\n",
       "      <td>4.0</td>\n",
       "      <td>3230.00</td>\n",
       "    </tr>\n",
       "    <tr>\n",
       "      <th>2</th>\n",
       "      <td>CHEMBL43736</td>\n",
       "      <td>Cc1c(COc2cccc(Cl)c2)cc(-c2ccc(S(C)(=O)=O)cc2)n...</td>\n",
       "      <td>active</td>\n",
       "      <td>469.965</td>\n",
       "      <td>6.22772</td>\n",
       "      <td>0.0</td>\n",
       "      <td>4.0</td>\n",
       "      <td>80.00</td>\n",
       "    </tr>\n",
       "    <tr>\n",
       "      <th>3</th>\n",
       "      <td>CHEMBL140167</td>\n",
       "      <td>Fc1ccc(-c2[nH]c(-c3ccc(F)cc3)c3c2C2CCC3CC2)cc1</td>\n",
       "      <td>active</td>\n",
       "      <td>335.397</td>\n",
       "      <td>6.38170</td>\n",
       "      <td>1.0</td>\n",
       "      <td>0.0</td>\n",
       "      <td>0.12</td>\n",
       "    </tr>\n",
       "    <tr>\n",
       "      <th>4</th>\n",
       "      <td>CHEMBL44194</td>\n",
       "      <td>CCc1ccc(-c2ccc(S(C)(=O)=O)cc2)n1-c1ccc(F)cc1</td>\n",
       "      <td>inactive</td>\n",
       "      <td>343.423</td>\n",
       "      <td>4.24930</td>\n",
       "      <td>0.0</td>\n",
       "      <td>3.0</td>\n",
       "      <td>100000.00</td>\n",
       "    </tr>\n",
       "    <tr>\n",
       "      <th>...</th>\n",
       "      <td>...</td>\n",
       "      <td>...</td>\n",
       "      <td>...</td>\n",
       "      <td>...</td>\n",
       "      <td>...</td>\n",
       "      <td>...</td>\n",
       "      <td>...</td>\n",
       "      <td>...</td>\n",
       "    </tr>\n",
       "    <tr>\n",
       "      <th>4379</th>\n",
       "      <td>CHEMBL4637729</td>\n",
       "      <td>O=[N+]([O-])c1ccc(-n2c(-c3ccc(Br)cc3)nc3ccccc3...</td>\n",
       "      <td>inactive</td>\n",
       "      <td>394.228</td>\n",
       "      <td>5.36320</td>\n",
       "      <td>0.0</td>\n",
       "      <td>4.0</td>\n",
       "      <td>102000.00</td>\n",
       "    </tr>\n",
       "    <tr>\n",
       "      <th>4380</th>\n",
       "      <td>CHEMBL4644152</td>\n",
       "      <td>O=[N+]([O-])c1ccc(-n2c(-c3ccccc3)nc3ccccc32)cc1</td>\n",
       "      <td>inactive</td>\n",
       "      <td>315.332</td>\n",
       "      <td>4.60070</td>\n",
       "      <td>0.0</td>\n",
       "      <td>4.0</td>\n",
       "      <td>162000.00</td>\n",
       "    </tr>\n",
       "    <tr>\n",
       "      <th>4381</th>\n",
       "      <td>CHEMBL4644109</td>\n",
       "      <td>Nc1ccc(-n2c(-c3ccc(Cl)cc3)nc3ccccc32)cc1</td>\n",
       "      <td>inactive</td>\n",
       "      <td>319.795</td>\n",
       "      <td>4.92810</td>\n",
       "      <td>1.0</td>\n",
       "      <td>3.0</td>\n",
       "      <td>193000.00</td>\n",
       "    </tr>\n",
       "    <tr>\n",
       "      <th>4382</th>\n",
       "      <td>CHEMBL4640459</td>\n",
       "      <td>Nc1ccc(-c2nc3ccccc3n2-c2ccc(N)cc2)cc1</td>\n",
       "      <td>inactive</td>\n",
       "      <td>300.365</td>\n",
       "      <td>3.85690</td>\n",
       "      <td>2.0</td>\n",
       "      <td>4.0</td>\n",
       "      <td>173000.00</td>\n",
       "    </tr>\n",
       "    <tr>\n",
       "      <th>4383</th>\n",
       "      <td>CHEMBL1800685</td>\n",
       "      <td>O=C(O)c1cc(-c2ccc(C3CCNCC3)cc2)c2ccc(-c3ccc(C(...</td>\n",
       "      <td>active</td>\n",
       "      <td>475.510</td>\n",
       "      <td>7.35780</td>\n",
       "      <td>2.0</td>\n",
       "      <td>2.0</td>\n",
       "      <td>8.71</td>\n",
       "    </tr>\n",
       "  </tbody>\n",
       "</table>\n",
       "<p>4377 rows × 8 columns</p>\n",
       "</div>"
      ],
      "text/plain": [
       "     molecule_chembl_id                                   canonical_smiles  \\\n",
       "0          CHEMBL297008           Cc1ccc(-c2ccc(S(C)(=O)=O)cc2)n1-c1ccccc1   \n",
       "1          CHEMBL289813   Cc1c(C=O)cc(-c2ccc(S(C)(=O)=O)cc2)n1-c1ccc(F)cc1   \n",
       "2           CHEMBL43736  Cc1c(COc2cccc(Cl)c2)cc(-c2ccc(S(C)(=O)=O)cc2)n...   \n",
       "3          CHEMBL140167     Fc1ccc(-c2[nH]c(-c3ccc(F)cc3)c3c2C2CCC3CC2)cc1   \n",
       "4           CHEMBL44194       CCc1ccc(-c2ccc(S(C)(=O)=O)cc2)n1-c1ccc(F)cc1   \n",
       "...                 ...                                                ...   \n",
       "4379      CHEMBL4637729  O=[N+]([O-])c1ccc(-n2c(-c3ccc(Br)cc3)nc3ccccc3...   \n",
       "4380      CHEMBL4644152    O=[N+]([O-])c1ccc(-n2c(-c3ccccc3)nc3ccccc32)cc1   \n",
       "4381      CHEMBL4644109           Nc1ccc(-n2c(-c3ccc(Cl)cc3)nc3ccccc32)cc1   \n",
       "4382      CHEMBL4640459              Nc1ccc(-c2nc3ccccc3n2-c2ccc(N)cc2)cc1   \n",
       "4383      CHEMBL1800685  O=C(O)c1cc(-c2ccc(C3CCNCC3)cc2)c2ccc(-c3ccc(C(...   \n",
       "\n",
       "             class       MW     LogP  NumHDonors  NumHAcceptors  \\\n",
       "0           active  311.406  3.85622         0.0            3.0   \n",
       "1     intermediate  357.406  3.80782         0.0            4.0   \n",
       "2           active  469.965  6.22772         0.0            4.0   \n",
       "3           active  335.397  6.38170         1.0            0.0   \n",
       "4         inactive  343.423  4.24930         0.0            3.0   \n",
       "...            ...      ...      ...         ...            ...   \n",
       "4379      inactive  394.228  5.36320         0.0            4.0   \n",
       "4380      inactive  315.332  4.60070         0.0            4.0   \n",
       "4381      inactive  319.795  4.92810         1.0            3.0   \n",
       "4382      inactive  300.365  3.85690         2.0            4.0   \n",
       "4383        active  475.510  7.35780         2.0            2.0   \n",
       "\n",
       "      standard_value_norm  \n",
       "0                   60.00  \n",
       "1                 3230.00  \n",
       "2                   80.00  \n",
       "3                    0.12  \n",
       "4               100000.00  \n",
       "...                   ...  \n",
       "4379            102000.00  \n",
       "4380            162000.00  \n",
       "4381            193000.00  \n",
       "4382            173000.00  \n",
       "4383                 8.71  \n",
       "\n",
       "[4377 rows x 8 columns]"
      ]
     },
     "execution_count": 19,
     "metadata": {},
     "output_type": "execute_result"
    }
   ],
   "source": [
    "# apply norm function to normalise the column\n",
    "df_norm = norm_value(df_combined)\n",
    "df_norm"
   ]
  },
  {
   "cell_type": "code",
   "execution_count": 20,
   "id": "65e82e1d",
   "metadata": {},
   "outputs": [
    {
     "data": {
      "text/plain": [
       "count    4.377000e+03\n",
       "mean     5.657670e+04\n",
       "std      1.039558e+06\n",
       "min      6.000000e-03\n",
       "25%      1.698200e+02\n",
       "50%      1.910000e+03\n",
       "75%      1.390000e+04\n",
       "max      6.000000e+07\n",
       "Name: standard_value_norm, dtype: float64"
      ]
     },
     "execution_count": 20,
     "metadata": {},
     "output_type": "execute_result"
    }
   ],
   "source": [
    "df_norm.standard_value_norm.describe()"
   ]
  },
  {
   "cell_type": "markdown",
   "id": "25e808e4",
   "metadata": {},
   "source": [
    "### Call the pIC50 function"
   ]
  },
  {
   "cell_type": "code",
   "execution_count": 21,
   "id": "a809e456",
   "metadata": {},
   "outputs": [
    {
     "name": "stderr",
     "output_type": "stream",
     "text": [
      "C:\\Users\\ryzen5\\AppData\\Local\\Temp/ipykernel_1232/3442786292.py:13: FutureWarning: In a future version of pandas all arguments of DataFrame.drop except for the argument 'labels' will be keyword-only\n",
      "  x = input.drop('standard_value_norm', 1)\n"
     ]
    },
    {
     "data": {
      "text/html": [
       "<div>\n",
       "<style scoped>\n",
       "    .dataframe tbody tr th:only-of-type {\n",
       "        vertical-align: middle;\n",
       "    }\n",
       "\n",
       "    .dataframe tbody tr th {\n",
       "        vertical-align: top;\n",
       "    }\n",
       "\n",
       "    .dataframe thead th {\n",
       "        text-align: right;\n",
       "    }\n",
       "</style>\n",
       "<table border=\"1\" class=\"dataframe\">\n",
       "  <thead>\n",
       "    <tr style=\"text-align: right;\">\n",
       "      <th></th>\n",
       "      <th>molecule_chembl_id</th>\n",
       "      <th>canonical_smiles</th>\n",
       "      <th>class</th>\n",
       "      <th>MW</th>\n",
       "      <th>LogP</th>\n",
       "      <th>NumHDonors</th>\n",
       "      <th>NumHAcceptors</th>\n",
       "      <th>pIC50</th>\n",
       "    </tr>\n",
       "  </thead>\n",
       "  <tbody>\n",
       "    <tr>\n",
       "      <th>0</th>\n",
       "      <td>CHEMBL297008</td>\n",
       "      <td>Cc1ccc(-c2ccc(S(C)(=O)=O)cc2)n1-c1ccccc1</td>\n",
       "      <td>active</td>\n",
       "      <td>311.406</td>\n",
       "      <td>3.85622</td>\n",
       "      <td>0.0</td>\n",
       "      <td>3.0</td>\n",
       "      <td>7.221849</td>\n",
       "    </tr>\n",
       "    <tr>\n",
       "      <th>1</th>\n",
       "      <td>CHEMBL289813</td>\n",
       "      <td>Cc1c(C=O)cc(-c2ccc(S(C)(=O)=O)cc2)n1-c1ccc(F)cc1</td>\n",
       "      <td>intermediate</td>\n",
       "      <td>357.406</td>\n",
       "      <td>3.80782</td>\n",
       "      <td>0.0</td>\n",
       "      <td>4.0</td>\n",
       "      <td>5.490797</td>\n",
       "    </tr>\n",
       "    <tr>\n",
       "      <th>2</th>\n",
       "      <td>CHEMBL43736</td>\n",
       "      <td>Cc1c(COc2cccc(Cl)c2)cc(-c2ccc(S(C)(=O)=O)cc2)n...</td>\n",
       "      <td>active</td>\n",
       "      <td>469.965</td>\n",
       "      <td>6.22772</td>\n",
       "      <td>0.0</td>\n",
       "      <td>4.0</td>\n",
       "      <td>7.096910</td>\n",
       "    </tr>\n",
       "    <tr>\n",
       "      <th>3</th>\n",
       "      <td>CHEMBL140167</td>\n",
       "      <td>Fc1ccc(-c2[nH]c(-c3ccc(F)cc3)c3c2C2CCC3CC2)cc1</td>\n",
       "      <td>active</td>\n",
       "      <td>335.397</td>\n",
       "      <td>6.38170</td>\n",
       "      <td>1.0</td>\n",
       "      <td>0.0</td>\n",
       "      <td>9.920819</td>\n",
       "    </tr>\n",
       "    <tr>\n",
       "      <th>4</th>\n",
       "      <td>CHEMBL44194</td>\n",
       "      <td>CCc1ccc(-c2ccc(S(C)(=O)=O)cc2)n1-c1ccc(F)cc1</td>\n",
       "      <td>inactive</td>\n",
       "      <td>343.423</td>\n",
       "      <td>4.24930</td>\n",
       "      <td>0.0</td>\n",
       "      <td>3.0</td>\n",
       "      <td>4.000000</td>\n",
       "    </tr>\n",
       "    <tr>\n",
       "      <th>...</th>\n",
       "      <td>...</td>\n",
       "      <td>...</td>\n",
       "      <td>...</td>\n",
       "      <td>...</td>\n",
       "      <td>...</td>\n",
       "      <td>...</td>\n",
       "      <td>...</td>\n",
       "      <td>...</td>\n",
       "    </tr>\n",
       "    <tr>\n",
       "      <th>4379</th>\n",
       "      <td>CHEMBL4637729</td>\n",
       "      <td>O=[N+]([O-])c1ccc(-n2c(-c3ccc(Br)cc3)nc3ccccc3...</td>\n",
       "      <td>inactive</td>\n",
       "      <td>394.228</td>\n",
       "      <td>5.36320</td>\n",
       "      <td>0.0</td>\n",
       "      <td>4.0</td>\n",
       "      <td>3.991400</td>\n",
       "    </tr>\n",
       "    <tr>\n",
       "      <th>4380</th>\n",
       "      <td>CHEMBL4644152</td>\n",
       "      <td>O=[N+]([O-])c1ccc(-n2c(-c3ccccc3)nc3ccccc32)cc1</td>\n",
       "      <td>inactive</td>\n",
       "      <td>315.332</td>\n",
       "      <td>4.60070</td>\n",
       "      <td>0.0</td>\n",
       "      <td>4.0</td>\n",
       "      <td>3.790485</td>\n",
       "    </tr>\n",
       "    <tr>\n",
       "      <th>4381</th>\n",
       "      <td>CHEMBL4644109</td>\n",
       "      <td>Nc1ccc(-n2c(-c3ccc(Cl)cc3)nc3ccccc32)cc1</td>\n",
       "      <td>inactive</td>\n",
       "      <td>319.795</td>\n",
       "      <td>4.92810</td>\n",
       "      <td>1.0</td>\n",
       "      <td>3.0</td>\n",
       "      <td>3.714443</td>\n",
       "    </tr>\n",
       "    <tr>\n",
       "      <th>4382</th>\n",
       "      <td>CHEMBL4640459</td>\n",
       "      <td>Nc1ccc(-c2nc3ccccc3n2-c2ccc(N)cc2)cc1</td>\n",
       "      <td>inactive</td>\n",
       "      <td>300.365</td>\n",
       "      <td>3.85690</td>\n",
       "      <td>2.0</td>\n",
       "      <td>4.0</td>\n",
       "      <td>3.761954</td>\n",
       "    </tr>\n",
       "    <tr>\n",
       "      <th>4383</th>\n",
       "      <td>CHEMBL1800685</td>\n",
       "      <td>O=C(O)c1cc(-c2ccc(C3CCNCC3)cc2)c2ccc(-c3ccc(C(...</td>\n",
       "      <td>active</td>\n",
       "      <td>475.510</td>\n",
       "      <td>7.35780</td>\n",
       "      <td>2.0</td>\n",
       "      <td>2.0</td>\n",
       "      <td>8.059982</td>\n",
       "    </tr>\n",
       "  </tbody>\n",
       "</table>\n",
       "<p>4377 rows × 8 columns</p>\n",
       "</div>"
      ],
      "text/plain": [
       "     molecule_chembl_id                                   canonical_smiles  \\\n",
       "0          CHEMBL297008           Cc1ccc(-c2ccc(S(C)(=O)=O)cc2)n1-c1ccccc1   \n",
       "1          CHEMBL289813   Cc1c(C=O)cc(-c2ccc(S(C)(=O)=O)cc2)n1-c1ccc(F)cc1   \n",
       "2           CHEMBL43736  Cc1c(COc2cccc(Cl)c2)cc(-c2ccc(S(C)(=O)=O)cc2)n...   \n",
       "3          CHEMBL140167     Fc1ccc(-c2[nH]c(-c3ccc(F)cc3)c3c2C2CCC3CC2)cc1   \n",
       "4           CHEMBL44194       CCc1ccc(-c2ccc(S(C)(=O)=O)cc2)n1-c1ccc(F)cc1   \n",
       "...                 ...                                                ...   \n",
       "4379      CHEMBL4637729  O=[N+]([O-])c1ccc(-n2c(-c3ccc(Br)cc3)nc3ccccc3...   \n",
       "4380      CHEMBL4644152    O=[N+]([O-])c1ccc(-n2c(-c3ccccc3)nc3ccccc32)cc1   \n",
       "4381      CHEMBL4644109           Nc1ccc(-n2c(-c3ccc(Cl)cc3)nc3ccccc32)cc1   \n",
       "4382      CHEMBL4640459              Nc1ccc(-c2nc3ccccc3n2-c2ccc(N)cc2)cc1   \n",
       "4383      CHEMBL1800685  O=C(O)c1cc(-c2ccc(C3CCNCC3)cc2)c2ccc(-c3ccc(C(...   \n",
       "\n",
       "             class       MW     LogP  NumHDonors  NumHAcceptors     pIC50  \n",
       "0           active  311.406  3.85622         0.0            3.0  7.221849  \n",
       "1     intermediate  357.406  3.80782         0.0            4.0  5.490797  \n",
       "2           active  469.965  6.22772         0.0            4.0  7.096910  \n",
       "3           active  335.397  6.38170         1.0            0.0  9.920819  \n",
       "4         inactive  343.423  4.24930         0.0            3.0  4.000000  \n",
       "...            ...      ...      ...         ...            ...       ...  \n",
       "4379      inactive  394.228  5.36320         0.0            4.0  3.991400  \n",
       "4380      inactive  315.332  4.60070         0.0            4.0  3.790485  \n",
       "4381      inactive  319.795  4.92810         1.0            3.0  3.714443  \n",
       "4382      inactive  300.365  3.85690         2.0            4.0  3.761954  \n",
       "4383        active  475.510  7.35780         2.0            2.0  8.059982  \n",
       "\n",
       "[4377 rows x 8 columns]"
      ]
     },
     "execution_count": 21,
     "metadata": {},
     "output_type": "execute_result"
    }
   ],
   "source": [
    "df_final = pIC50(df_norm)\n",
    "df_final"
   ]
  },
  {
   "cell_type": "code",
   "execution_count": 22,
   "id": "064372ed",
   "metadata": {},
   "outputs": [
    {
     "data": {
      "text/plain": [
       "<AxesSubplot:xlabel='molecule_chembl_id', ylabel='pIC50'>"
      ]
     },
     "execution_count": 22,
     "metadata": {},
     "output_type": "execute_result"
    },
    {
     "data": {
      "image/png": "[encoded data removed]",
      "text/plain": [
       "<Figure size 432x288 with 1 Axes>"
      ]
     },
     "metadata": {
      "needs_background": "light"
     },
     "output_type": "display_data"
    }
   ],
   "source": [
    "# Distribution of ic50 after negative logarithmic transformation also known as pIC50\n",
    "df_final.plot.scatter(x='molecule_chembl_id', y='pIC50')"
   ]
  },
  {
   "cell_type": "markdown",
   "id": "9e8383b7",
   "metadata": {},
   "source": [
    "# Removing 'Intermediate' bioactivity class"
   ]
  },
  {
   "cell_type": "code",
   "execution_count": 50,
   "id": "9faf9086",
   "metadata": {},
   "outputs": [],
   "source": [
    "df_3_class= df_final"
   ]
  },
  {
   "cell_type": "code",
   "execution_count": 51,
   "id": "8c773ba3",
   "metadata": {},
   "outputs": [],
   "source": [
    "df_3_class.to_csv('cox-2_3_classes.csv')"
   ]
  },
  {
   "cell_type": "code",
   "execution_count": 23,
   "id": "3c35e06c",
   "metadata": {},
   "outputs": [],
   "source": [
    "df_2_class = df_final[df_final['class'] != 'intermediate']"
   ]
  },
  {
   "cell_type": "code",
   "execution_count": 24,
   "id": "f9f0d470",
   "metadata": {},
   "outputs": [
    {
     "data": {
      "text/html": [
       "<div>\n",
       "<style scoped>\n",
       "    .dataframe tbody tr th:only-of-type {\n",
       "        vertical-align: middle;\n",
       "    }\n",
       "\n",
       "    .dataframe tbody tr th {\n",
       "        vertical-align: top;\n",
       "    }\n",
       "\n",
       "    .dataframe thead th {\n",
       "        text-align: right;\n",
       "    }\n",
       "</style>\n",
       "<table border=\"1\" class=\"dataframe\">\n",
       "  <thead>\n",
       "    <tr style=\"text-align: right;\">\n",
       "      <th></th>\n",
       "      <th>molecule_chembl_id</th>\n",
       "      <th>canonical_smiles</th>\n",
       "      <th>class</th>\n",
       "      <th>MW</th>\n",
       "      <th>LogP</th>\n",
       "      <th>NumHDonors</th>\n",
       "      <th>NumHAcceptors</th>\n",
       "      <th>pIC50</th>\n",
       "    </tr>\n",
       "  </thead>\n",
       "  <tbody>\n",
       "    <tr>\n",
       "      <th>0</th>\n",
       "      <td>CHEMBL297008</td>\n",
       "      <td>Cc1ccc(-c2ccc(S(C)(=O)=O)cc2)n1-c1ccccc1</td>\n",
       "      <td>active</td>\n",
       "      <td>311.406</td>\n",
       "      <td>3.85622</td>\n",
       "      <td>0.0</td>\n",
       "      <td>3.0</td>\n",
       "      <td>7.221849</td>\n",
       "    </tr>\n",
       "    <tr>\n",
       "      <th>2</th>\n",
       "      <td>CHEMBL43736</td>\n",
       "      <td>Cc1c(COc2cccc(Cl)c2)cc(-c2ccc(S(C)(=O)=O)cc2)n...</td>\n",
       "      <td>active</td>\n",
       "      <td>469.965</td>\n",
       "      <td>6.22772</td>\n",
       "      <td>0.0</td>\n",
       "      <td>4.0</td>\n",
       "      <td>7.096910</td>\n",
       "    </tr>\n",
       "    <tr>\n",
       "      <th>3</th>\n",
       "      <td>CHEMBL140167</td>\n",
       "      <td>Fc1ccc(-c2[nH]c(-c3ccc(F)cc3)c3c2C2CCC3CC2)cc1</td>\n",
       "      <td>active</td>\n",
       "      <td>335.397</td>\n",
       "      <td>6.38170</td>\n",
       "      <td>1.0</td>\n",
       "      <td>0.0</td>\n",
       "      <td>9.920819</td>\n",
       "    </tr>\n",
       "    <tr>\n",
       "      <th>4</th>\n",
       "      <td>CHEMBL44194</td>\n",
       "      <td>CCc1ccc(-c2ccc(S(C)(=O)=O)cc2)n1-c1ccc(F)cc1</td>\n",
       "      <td>inactive</td>\n",
       "      <td>343.423</td>\n",
       "      <td>4.24930</td>\n",
       "      <td>0.0</td>\n",
       "      <td>3.0</td>\n",
       "      <td>4.000000</td>\n",
       "    </tr>\n",
       "    <tr>\n",
       "      <th>6</th>\n",
       "      <td>CHEMBL288773</td>\n",
       "      <td>Cc1ccc(-c2ccc(S(C)(=O)=O)cc2)n1Cc1ccc(F)cc1</td>\n",
       "      <td>inactive</td>\n",
       "      <td>343.423</td>\n",
       "      <td>4.05442</td>\n",
       "      <td>0.0</td>\n",
       "      <td>3.0</td>\n",
       "      <td>4.000000</td>\n",
       "    </tr>\n",
       "    <tr>\n",
       "      <th>...</th>\n",
       "      <td>...</td>\n",
       "      <td>...</td>\n",
       "      <td>...</td>\n",
       "      <td>...</td>\n",
       "      <td>...</td>\n",
       "      <td>...</td>\n",
       "      <td>...</td>\n",
       "      <td>...</td>\n",
       "    </tr>\n",
       "    <tr>\n",
       "      <th>4379</th>\n",
       "      <td>CHEMBL4637729</td>\n",
       "      <td>O=[N+]([O-])c1ccc(-n2c(-c3ccc(Br)cc3)nc3ccccc3...</td>\n",
       "      <td>inactive</td>\n",
       "      <td>394.228</td>\n",
       "      <td>5.36320</td>\n",
       "      <td>0.0</td>\n",
       "      <td>4.0</td>\n",
       "      <td>3.991400</td>\n",
       "    </tr>\n",
       "    <tr>\n",
       "      <th>4380</th>\n",
       "      <td>CHEMBL4644152</td>\n",
       "      <td>O=[N+]([O-])c1ccc(-n2c(-c3ccccc3)nc3ccccc32)cc1</td>\n",
       "      <td>inactive</td>\n",
       "      <td>315.332</td>\n",
       "      <td>4.60070</td>\n",
       "      <td>0.0</td>\n",
       "      <td>4.0</td>\n",
       "      <td>3.790485</td>\n",
       "    </tr>\n",
       "    <tr>\n",
       "      <th>4381</th>\n",
       "      <td>CHEMBL4644109</td>\n",
       "      <td>Nc1ccc(-n2c(-c3ccc(Cl)cc3)nc3ccccc32)cc1</td>\n",
       "      <td>inactive</td>\n",
       "      <td>319.795</td>\n",
       "      <td>4.92810</td>\n",
       "      <td>1.0</td>\n",
       "      <td>3.0</td>\n",
       "      <td>3.714443</td>\n",
       "    </tr>\n",
       "    <tr>\n",
       "      <th>4382</th>\n",
       "      <td>CHEMBL4640459</td>\n",
       "      <td>Nc1ccc(-c2nc3ccccc3n2-c2ccc(N)cc2)cc1</td>\n",
       "      <td>inactive</td>\n",
       "      <td>300.365</td>\n",
       "      <td>3.85690</td>\n",
       "      <td>2.0</td>\n",
       "      <td>4.0</td>\n",
       "      <td>3.761954</td>\n",
       "    </tr>\n",
       "    <tr>\n",
       "      <th>4383</th>\n",
       "      <td>CHEMBL1800685</td>\n",
       "      <td>O=C(O)c1cc(-c2ccc(C3CCNCC3)cc2)c2ccc(-c3ccc(C(...</td>\n",
       "      <td>active</td>\n",
       "      <td>475.510</td>\n",
       "      <td>7.35780</td>\n",
       "      <td>2.0</td>\n",
       "      <td>2.0</td>\n",
       "      <td>8.059982</td>\n",
       "    </tr>\n",
       "  </tbody>\n",
       "</table>\n",
       "<p>3346 rows × 8 columns</p>\n",
       "</div>"
      ],
      "text/plain": [
       "     molecule_chembl_id                                   canonical_smiles  \\\n",
       "0          CHEMBL297008           Cc1ccc(-c2ccc(S(C)(=O)=O)cc2)n1-c1ccccc1   \n",
       "2           CHEMBL43736  Cc1c(COc2cccc(Cl)c2)cc(-c2ccc(S(C)(=O)=O)cc2)n...   \n",
       "3          CHEMBL140167     Fc1ccc(-c2[nH]c(-c3ccc(F)cc3)c3c2C2CCC3CC2)cc1   \n",
       "4           CHEMBL44194       CCc1ccc(-c2ccc(S(C)(=O)=O)cc2)n1-c1ccc(F)cc1   \n",
       "6          CHEMBL288773        Cc1ccc(-c2ccc(S(C)(=O)=O)cc2)n1Cc1ccc(F)cc1   \n",
       "...                 ...                                                ...   \n",
       "4379      CHEMBL4637729  O=[N+]([O-])c1ccc(-n2c(-c3ccc(Br)cc3)nc3ccccc3...   \n",
       "4380      CHEMBL4644152    O=[N+]([O-])c1ccc(-n2c(-c3ccccc3)nc3ccccc32)cc1   \n",
       "4381      CHEMBL4644109           Nc1ccc(-n2c(-c3ccc(Cl)cc3)nc3ccccc32)cc1   \n",
       "4382      CHEMBL4640459              Nc1ccc(-c2nc3ccccc3n2-c2ccc(N)cc2)cc1   \n",
       "4383      CHEMBL1800685  O=C(O)c1cc(-c2ccc(C3CCNCC3)cc2)c2ccc(-c3ccc(C(...   \n",
       "\n",
       "         class       MW     LogP  NumHDonors  NumHAcceptors     pIC50  \n",
       "0       active  311.406  3.85622         0.0            3.0  7.221849  \n",
       "2       active  469.965  6.22772         0.0            4.0  7.096910  \n",
       "3       active  335.397  6.38170         1.0            0.0  9.920819  \n",
       "4     inactive  343.423  4.24930         0.0            3.0  4.000000  \n",
       "6     inactive  343.423  4.05442         0.0            3.0  4.000000  \n",
       "...        ...      ...      ...         ...            ...       ...  \n",
       "4379  inactive  394.228  5.36320         0.0            4.0  3.991400  \n",
       "4380  inactive  315.332  4.60070         0.0            4.0  3.790485  \n",
       "4381  inactive  319.795  4.92810         1.0            3.0  3.714443  \n",
       "4382  inactive  300.365  3.85690         2.0            4.0  3.761954  \n",
       "4383    active  475.510  7.35780         2.0            2.0  8.059982  \n",
       "\n",
       "[3346 rows x 8 columns]"
      ]
     },
     "execution_count": 24,
     "metadata": {},
     "output_type": "execute_result"
    }
   ],
   "source": [
    "df_2_class"
   ]
  },
  {
   "cell_type": "code",
   "execution_count": 26,
   "id": "e2d75d42",
   "metadata": {},
   "outputs": [
    {
     "data": {
      "text/plain": [
       "count    3346.000000\n",
       "mean        5.919458\n",
       "std         1.503933\n",
       "min         1.221849\n",
       "25%         4.522879\n",
       "50%         6.200659\n",
       "75%         7.096910\n",
       "max        11.221849\n",
       "Name: pIC50, dtype: float64"
      ]
     },
     "execution_count": 26,
     "metadata": {},
     "output_type": "execute_result"
    }
   ],
   "source": [
    "df_2_class.pIC50.describe()"
   ]
  },
  {
   "cell_type": "code",
   "execution_count": 27,
   "id": "29589c64",
   "metadata": {},
   "outputs": [],
   "source": [
    "df_2_class.to_csv('cox-2_2_classes.csv')"
   ]
  },
  {
   "cell_type": "markdown",
   "id": "e49e3886",
   "metadata": {},
   "source": [
    "# Exploratory data analysis"
   ]
  },
  {
   "cell_type": "code",
   "execution_count": 32,
   "id": "3b57940c",
   "metadata": {},
   "outputs": [],
   "source": [
    "import seaborn as sns\n",
    "sns.set(style='ticks')\n",
    "import matplotlib.pyplot as plt"
   ]
  },
  {
   "cell_type": "code",
   "execution_count": 34,
   "id": "121fef04",
   "metadata": {
    "scrolled": true
   },
   "outputs": [
    {
     "data": {
      "image/png": "[encoded data removed]",
      "text/plain": [
       "<Figure size 396x396 with 1 Axes>"
      ]
     },
     "metadata": {},
     "output_type": "display_data"
    }
   ],
   "source": [
    "plt.figure(figsize=(5.5, 5.5))\n",
    "\n",
    "sns.countplot(x='class', data=df_2_class, edgecolor='black')\n",
    "\n",
    "plt.xlabel('Bioactivity class', fontsize=14, fontweight='bold')\n",
    "plt.ylabel('Frequency', fontsize=14, fontweight='bold')\n",
    "\n",
    "plt.savefig('plot_bioactivity_class.pdf')"
   ]
  },
  {
   "cell_type": "markdown",
   "id": "b268bb0a",
   "metadata": {},
   "source": [
    "# Scatter plot of MW against LogP"
   ]
  },
  {
   "cell_type": "code",
   "execution_count": 35,
   "id": "cbcf32d4",
   "metadata": {},
   "outputs": [
    {
     "data": {
      "image/png": "[encoded data removed]",
      "text/plain": [
       "<Figure size 396x396 with 1 Axes>"
      ]
     },
     "metadata": {},
     "output_type": "display_data"
    }
   ],
   "source": [
    "plt.figure(figsize=(5.5, 5.5))\n",
    "\n",
    "sns.scatterplot(x='MW', y='LogP', data=df_2_class, hue='class', size='pIC50', edgecolor='black', alpha=0.7)\n",
    "\n",
    "plt.xlabel('MW', fontsize=14, fontweight='bold')\n",
    "plt.ylabel('LogP', fontsize=14, fontweight='bold')\n",
    "plt.legend(bbox_to_anchor=(1.05, 1), loc=2, borderaxespad=0)\n",
    "plt.savefig('plot_MW_vs_LogP.pdf')"
   ]
  },
  {
   "cell_type": "code",
   "execution_count": 36,
   "id": "005a8fb7",
   "metadata": {},
   "outputs": [
    {
     "data": {
      "image/png": "[encoded data removed]",
      "text/plain": [
       "<Figure size 396x396 with 1 Axes>"
      ]
     },
     "metadata": {},
     "output_type": "display_data"
    }
   ],
   "source": [
    "plt.figure(figsize=(5.5, 5.5))\n",
    "\n",
    "sns.boxplot(x = 'class', y = 'pIC50', data = df_2_class)\n",
    "\n",
    "plt.xlabel('Bioactivity class', fontsize=14, fontweight='bold')\n",
    "plt.ylabel('pIC50 value', fontsize=14, fontweight='bold')\n",
    "\n",
    "plt.savefig('plot_ic50.pdf')"
   ]
  },
  {
   "cell_type": "code",
   "execution_count": 37,
   "id": "19cee1b4",
   "metadata": {},
   "outputs": [],
   "source": [
    "# mann whitney u\n",
    "\n",
    "def mannwhitney(descriptor, verbose=False):\n",
    "  # https://machinelearningmastery.com/nonparametric-statistical-significance-tests-in-python/\n",
    "  from numpy.random import seed\n",
    "  from numpy.random import randn\n",
    "  from scipy.stats import mannwhitneyu\n",
    "\n",
    "# seed the random number generator\n",
    "  seed(1)\n",
    "\n",
    "# actives and inactives\n",
    "  selection = [descriptor, 'class']\n",
    "  df = df_2_class[selection]\n",
    "  active = df[df['class'] == 'active']\n",
    "  active = active[descriptor]\n",
    "\n",
    "  selection = [descriptor, 'class']\n",
    "  df = df_2_class[selection]\n",
    "  inactive = df[df['class'] == 'inactive']\n",
    "  inactive = inactive[descriptor]\n",
    "\n",
    "# compare samples\n",
    "  stat, p = mannwhitneyu(active, inactive)\n",
    "  #print('Statistics=%.3f, p=%.3f' % (stat, p))\n",
    "\n",
    "# interpret\n",
    "  alpha = 0.05\n",
    "  if p > alpha:\n",
    "    interpretation = 'Same distribution (fail to reject H0)'\n",
    "  else:\n",
    "    interpretation = 'Different distribution (reject H0)'\n",
    "  \n",
    "  results = pd.DataFrame({'Descriptor':descriptor,\n",
    "                          'Statistics':stat,\n",
    "                          'p':p,\n",
    "                          'alpha':alpha,\n",
    "                          'Interpretation':interpretation}, index=[0])\n",
    "  filename = 'mannwhitneyu_' + descriptor + '.csv'\n",
    "  results.to_csv(filename)\n",
    "\n",
    "  return results"
   ]
  },
  {
   "cell_type": "code",
   "execution_count": 38,
   "id": "59b70682",
   "metadata": {},
   "outputs": [
    {
     "data": {
      "text/html": [
       "<div>\n",
       "<style scoped>\n",
       "    .dataframe tbody tr th:only-of-type {\n",
       "        vertical-align: middle;\n",
       "    }\n",
       "\n",
       "    .dataframe tbody tr th {\n",
       "        vertical-align: top;\n",
       "    }\n",
       "\n",
       "    .dataframe thead th {\n",
       "        text-align: right;\n",
       "    }\n",
       "</style>\n",
       "<table border=\"1\" class=\"dataframe\">\n",
       "  <thead>\n",
       "    <tr style=\"text-align: right;\">\n",
       "      <th></th>\n",
       "      <th>Descriptor</th>\n",
       "      <th>Statistics</th>\n",
       "      <th>p</th>\n",
       "      <th>alpha</th>\n",
       "      <th>Interpretation</th>\n",
       "    </tr>\n",
       "  </thead>\n",
       "  <tbody>\n",
       "    <tr>\n",
       "      <th>0</th>\n",
       "      <td>pIC50</td>\n",
       "      <td>2732880.0</td>\n",
       "      <td>0.0</td>\n",
       "      <td>0.05</td>\n",
       "      <td>Different distribution (reject H0)</td>\n",
       "    </tr>\n",
       "  </tbody>\n",
       "</table>\n",
       "</div>"
      ],
      "text/plain": [
       "  Descriptor  Statistics    p  alpha                      Interpretation\n",
       "0      pIC50   2732880.0  0.0   0.05  Different distribution (reject H0)"
      ]
     },
     "execution_count": 38,
     "metadata": {},
     "output_type": "execute_result"
    }
   ],
   "source": [
    "mannwhitney('pIC50')"
   ]
  },
  {
   "cell_type": "code",
   "execution_count": 40,
   "id": "b146975b",
   "metadata": {},
   "outputs": [
    {
     "data": {
      "image/png": "[encoded data removed]",
      "text/plain": [
       "<Figure size 396x396 with 1 Axes>"
      ]
     },
     "metadata": {},
     "output_type": "display_data"
    }
   ],
   "source": [
    "plt.figure(figsize=(5.5, 5.5))\n",
    "\n",
    "sns.boxplot(x = 'class', y = 'MW', data = df_2_class)\n",
    "\n",
    "plt.xlabel('Bioactivity class', fontsize=14, fontweight='bold')\n",
    "plt.ylabel('MW', fontsize=14, fontweight='bold')\n",
    "\n",
    "plt.savefig('plot_MW.pdf')"
   ]
  },
  {
   "cell_type": "code",
   "execution_count": 41,
   "id": "0cabefa7",
   "metadata": {},
   "outputs": [
    {
     "data": {
      "text/html": [
       "<div>\n",
       "<style scoped>\n",
       "    .dataframe tbody tr th:only-of-type {\n",
       "        vertical-align: middle;\n",
       "    }\n",
       "\n",
       "    .dataframe tbody tr th {\n",
       "        vertical-align: top;\n",
       "    }\n",
       "\n",
       "    .dataframe thead th {\n",
       "        text-align: right;\n",
       "    }\n",
       "</style>\n",
       "<table border=\"1\" class=\"dataframe\">\n",
       "  <thead>\n",
       "    <tr style=\"text-align: right;\">\n",
       "      <th></th>\n",
       "      <th>Descriptor</th>\n",
       "      <th>Statistics</th>\n",
       "      <th>p</th>\n",
       "      <th>alpha</th>\n",
       "      <th>Interpretation</th>\n",
       "    </tr>\n",
       "  </thead>\n",
       "  <tbody>\n",
       "    <tr>\n",
       "      <th>0</th>\n",
       "      <td>MW</td>\n",
       "      <td>1561556.0</td>\n",
       "      <td>1.581475e-12</td>\n",
       "      <td>0.05</td>\n",
       "      <td>Different distribution (reject H0)</td>\n",
       "    </tr>\n",
       "  </tbody>\n",
       "</table>\n",
       "</div>"
      ],
      "text/plain": [
       "  Descriptor  Statistics             p  alpha  \\\n",
       "0         MW   1561556.0  1.581475e-12   0.05   \n",
       "\n",
       "                       Interpretation  \n",
       "0  Different distribution (reject H0)  "
      ]
     },
     "execution_count": 41,
     "metadata": {},
     "output_type": "execute_result"
    }
   ],
   "source": [
    "mannwhitney('MW')"
   ]
  },
  {
   "cell_type": "code",
   "execution_count": 43,
   "id": "922c786b",
   "metadata": {},
   "outputs": [
    {
     "data": {
      "image/png": "[encoded data removed]",
      "text/plain": [
       "<Figure size 396x396 with 1 Axes>"
      ]
     },
     "metadata": {},
     "output_type": "display_data"
    }
   ],
   "source": [
    "plt.figure(figsize=(5.5, 5.5))\n",
    "\n",
    "sns.boxplot(x = 'class', y = 'LogP', data = df_2_class)\n",
    "\n",
    "plt.xlabel('Bioactivity class', fontsize=14, fontweight='bold')\n",
    "plt.ylabel('LogP', fontsize=14, fontweight='bold')\n",
    "\n",
    "plt.savefig('plot_LogP.pdf')"
   ]
  },
  {
   "cell_type": "code",
   "execution_count": 44,
   "id": "2cec5cbe",
   "metadata": {},
   "outputs": [
    {
     "data": {
      "text/html": [
       "<div>\n",
       "<style scoped>\n",
       "    .dataframe tbody tr th:only-of-type {\n",
       "        vertical-align: middle;\n",
       "    }\n",
       "\n",
       "    .dataframe tbody tr th {\n",
       "        vertical-align: top;\n",
       "    }\n",
       "\n",
       "    .dataframe thead th {\n",
       "        text-align: right;\n",
       "    }\n",
       "</style>\n",
       "<table border=\"1\" class=\"dataframe\">\n",
       "  <thead>\n",
       "    <tr style=\"text-align: right;\">\n",
       "      <th></th>\n",
       "      <th>Descriptor</th>\n",
       "      <th>Statistics</th>\n",
       "      <th>p</th>\n",
       "      <th>alpha</th>\n",
       "      <th>Interpretation</th>\n",
       "    </tr>\n",
       "  </thead>\n",
       "  <tbody>\n",
       "    <tr>\n",
       "      <th>0</th>\n",
       "      <td>LogP</td>\n",
       "      <td>1452080.0</td>\n",
       "      <td>0.001923</td>\n",
       "      <td>0.05</td>\n",
       "      <td>Different distribution (reject H0)</td>\n",
       "    </tr>\n",
       "  </tbody>\n",
       "</table>\n",
       "</div>"
      ],
      "text/plain": [
       "  Descriptor  Statistics         p  alpha                      Interpretation\n",
       "0       LogP   1452080.0  0.001923   0.05  Different distribution (reject H0)"
      ]
     },
     "execution_count": 44,
     "metadata": {},
     "output_type": "execute_result"
    }
   ],
   "source": [
    "mannwhitney('LogP')"
   ]
  },
  {
   "cell_type": "code",
   "execution_count": 46,
   "id": "61fa5023",
   "metadata": {},
   "outputs": [
    {
     "data": {
      "image/png": "[encoded data removed]",
      "text/plain": [
       "<Figure size 396x396 with 1 Axes>"
      ]
     },
     "metadata": {},
     "output_type": "display_data"
    }
   ],
   "source": [
    "plt.figure(figsize=(5.5, 5.5))\n",
    "\n",
    "sns.boxplot(x = 'class', y = 'NumHDonors', data = df_2_class)\n",
    "\n",
    "plt.xlabel('Bioactivity class', fontsize=14, fontweight='bold')\n",
    "plt.ylabel('NumHDonors', fontsize=14, fontweight='bold')\n",
    "\n",
    "plt.savefig('plot_NumHDonors.pdf')"
   ]
  },
  {
   "cell_type": "code",
   "execution_count": 47,
   "id": "d9714366",
   "metadata": {},
   "outputs": [
    {
     "data": {
      "text/html": [
       "<div>\n",
       "<style scoped>\n",
       "    .dataframe tbody tr th:only-of-type {\n",
       "        vertical-align: middle;\n",
       "    }\n",
       "\n",
       "    .dataframe tbody tr th {\n",
       "        vertical-align: top;\n",
       "    }\n",
       "\n",
       "    .dataframe thead th {\n",
       "        text-align: right;\n",
       "    }\n",
       "</style>\n",
       "<table border=\"1\" class=\"dataframe\">\n",
       "  <thead>\n",
       "    <tr style=\"text-align: right;\">\n",
       "      <th></th>\n",
       "      <th>Descriptor</th>\n",
       "      <th>Statistics</th>\n",
       "      <th>p</th>\n",
       "      <th>alpha</th>\n",
       "      <th>Interpretation</th>\n",
       "    </tr>\n",
       "  </thead>\n",
       "  <tbody>\n",
       "    <tr>\n",
       "      <th>0</th>\n",
       "      <td>NumHDonors</td>\n",
       "      <td>1197049.0</td>\n",
       "      <td>5.975426e-11</td>\n",
       "      <td>0.05</td>\n",
       "      <td>Different distribution (reject H0)</td>\n",
       "    </tr>\n",
       "  </tbody>\n",
       "</table>\n",
       "</div>"
      ],
      "text/plain": [
       "   Descriptor  Statistics             p  alpha  \\\n",
       "0  NumHDonors   1197049.0  5.975426e-11   0.05   \n",
       "\n",
       "                       Interpretation  \n",
       "0  Different distribution (reject H0)  "
      ]
     },
     "execution_count": 47,
     "metadata": {},
     "output_type": "execute_result"
    }
   ],
   "source": [
    "mannwhitney('NumHDonors')\n"
   ]
  },
  {
   "cell_type": "code",
   "execution_count": 48,
   "id": "c4846957",
   "metadata": {},
   "outputs": [
    {
     "data": {
      "image/png": "[encoded data removed]",
      "text/plain": [
       "<Figure size 396x396 with 1 Axes>"
      ]
     },
     "metadata": {},
     "output_type": "display_data"
    }
   ],
   "source": [
    "plt.figure(figsize=(5.5, 5.5))\n",
    "\n",
    "sns.boxplot(x = 'class', y = 'NumHAcceptors', data = df_2_class)\n",
    "\n",
    "plt.xlabel('Bioactivity class', fontsize=14, fontweight='bold')\n",
    "plt.ylabel('NumHAcceptors', fontsize=14, fontweight='bold')\n",
    "\n",
    "plt.savefig('plot_NumHAcceptors.pdf')"
   ]
  },
  {
   "cell_type": "code",
   "execution_count": 49,
   "id": "fae8191d",
   "metadata": {},
   "outputs": [
    {
     "data": {
      "text/html": [
       "<div>\n",
       "<style scoped>\n",
       "    .dataframe tbody tr th:only-of-type {\n",
       "        vertical-align: middle;\n",
       "    }\n",
       "\n",
       "    .dataframe tbody tr th {\n",
       "        vertical-align: top;\n",
       "    }\n",
       "\n",
       "    .dataframe thead th {\n",
       "        text-align: right;\n",
       "    }\n",
       "</style>\n",
       "<table border=\"1\" class=\"dataframe\">\n",
       "  <thead>\n",
       "    <tr style=\"text-align: right;\">\n",
       "      <th></th>\n",
       "      <th>Descriptor</th>\n",
       "      <th>Statistics</th>\n",
       "      <th>p</th>\n",
       "      <th>alpha</th>\n",
       "      <th>Interpretation</th>\n",
       "    </tr>\n",
       "  </thead>\n",
       "  <tbody>\n",
       "    <tr>\n",
       "      <th>0</th>\n",
       "      <td>NumHAcceptors</td>\n",
       "      <td>1455068.5</td>\n",
       "      <td>0.001096</td>\n",
       "      <td>0.05</td>\n",
       "      <td>Different distribution (reject H0)</td>\n",
       "    </tr>\n",
       "  </tbody>\n",
       "</table>\n",
       "</div>"
      ],
      "text/plain": [
       "      Descriptor  Statistics         p  alpha  \\\n",
       "0  NumHAcceptors   1455068.5  0.001096   0.05   \n",
       "\n",
       "                       Interpretation  \n",
       "0  Different distribution (reject H0)  "
      ]
     },
     "execution_count": 49,
     "metadata": {},
     "output_type": "execute_result"
    }
   ],
   "source": [
    "mannwhitney('NumHAcceptors')\n"
   ]
  },
  {
   "cell_type": "code",
   "execution_count": null,
   "id": "e5b437c3",
   "metadata": {},
   "outputs": [],
   "source": []
  }
 ],
 "metadata": {
  "kernelspec": {
   "display_name": "my-rdkit-env",
   "language": "python",
   "name": "my-rdkit-env"
  },
  "language_info": {
   "codemirror_mode": {
    "name": "ipython",
    "version": 3
   },
   "file_extension": ".py",
   "mimetype": "text/x-python",
   "name": "python",
   "nbconvert_exporter": "python",
   "pygments_lexer": "ipython3",
   "version": "3.9.7"
  }
 },
 "nbformat": 4,
 "nbformat_minor": 5
}
